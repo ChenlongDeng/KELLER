{
 "cells": [
  {
   "cell_type": "code",
   "execution_count": 1,
   "metadata": {},
   "outputs": [],
   "source": [
    "\n",
    "import json\n",
    "import os\n",
    "import re"
   ]
  },
  {
   "cell_type": "code",
   "execution_count": 2,
   "metadata": {},
   "outputs": [],
   "source": [
    "# 问题1：过长的文档会导致输入不了\n",
    "# 问题2：过短的文档可能漏掉关键内容\n",
    "# 问题3：长度适中的文档也可能存在关键信息完全不在里面的可能性"
   ]
  },
  {
   "cell_type": "code",
   "execution_count": 4,
   "metadata": {},
   "outputs": [],
   "source": [
    "# 长度问题：分析文档长度，做统计\n",
    "query_path = '/share/kelong/chenlong/Legal/data/LeCaRDv2-main/query/query.json'\n",
    "querys = {}\n",
    "output_path = './rule_based_query_fact.json'\n",
    "\n"
   ]
  },
  {
   "cell_type": "code",
   "execution_count": 7,
   "metadata": {},
   "outputs": [
    {
     "name": "stdout",
     "output_type": "stream",
     "text": [
      "665\n",
      "605\n",
      "520\n",
      "70\n",
      "575\n",
      "405\n",
      "345\n",
      "180\n",
      "245\n",
      "265\n",
      "215\n",
      "15\n",
      "330\n",
      "550\n",
      "385\n",
      "285\n",
      "355\n",
      "290\n",
      "295\n",
      "110\n",
      "335\n"
     ]
    }
   ],
   "source": [
    "# 检验test_query中的标签质量\n",
    "test_querys = {}\n",
    "with open('/share/kelong/chenlong/Legal/data/LeCaRDv2-main/query/test_query.jsonl', 'r') as f:\n",
    "    for line in f:\n",
    "        query = json.loads(line)\n",
    "        test_querys[str(query['id'])] = query['fact']\n",
    "\n",
    "LeCaRDv2_label = {}\n",
    "with open('/share/kelong/chenlong/Legal/data/LeCaRDv2-main/label/relevence.trec', 'r') as f:\n",
    "    for line in f:\n",
    "        qid, _, did, rel = line.strip().split('\\t')\n",
    "        if qid not in LeCaRDv2_label.keys():\n",
    "            LeCaRDv2_label[qid] = {}\n",
    "        LeCaRDv2_label[qid][did] = int(rel)\n",
    "\n",
    "for qid in test_querys.keys():\n",
    "    if all([LeCaRDv2_label[qid][did] != 3 for did in LeCaRDv2_label[qid].keys()]):\n",
    "        golden_labels = [2,3]\n",
    "    else:\n",
    "        golden_labels = [3]\n",
    "    if all(LeCaRDv2_label[qid][did] in golden_labels for did in LeCaRDv2_label[qid].keys()):\n",
    "        print(qid)"
   ]
  },
  {
   "cell_type": "code",
   "execution_count": 11,
   "metadata": {},
   "outputs": [
    {
     "name": "stdout",
     "output_type": "stream",
     "text": [
      "3342\n"
     ]
    }
   ],
   "source": [
    "# 检验LeCaRD中test_query中的标签质量\n",
    "LeCaRD_querys = json.load(open('/share/kelong/chenlong/Legal/data/LeCaRD/data/query/query_total.json', 'r'))\n",
    "\n",
    "LeCaRD_label = json.load(open('/share/kelong/chenlong/Legal/data/LeCaRD/data/label/label_top30_dict.json', 'r'))\n",
    "\n",
    "for qid in LeCaRD_querys.keys():\n",
    "    if all([LeCaRD_label[qid][did] != 3 for did in LeCaRD_label[qid].keys()]):\n",
    "        golden_labels = [2,3]\n",
    "    else:\n",
    "        golden_labels = [3]\n",
    "    if all(LeCaRD_label[qid][did] in golden_labels for did in LeCaRD_label[qid].keys()):\n",
    "        print(qid)"
   ]
  },
  {
   "cell_type": "code",
   "execution_count": 2,
   "metadata": {},
   "outputs": [
    {
     "name": "stderr",
     "output_type": "stream",
     "text": [
      "  0%|                                                                                         | 0/55192 [00:00<?, ?it/s]"
     ]
    },
    {
     "name": "stderr",
     "output_type": "stream",
     "text": [
      "100%|████████████████████████████████████████████████████████████████████████████| 55192/55192 [01:18<00:00, 705.61it/s]\n"
     ]
    }
   ],
   "source": [
    "# 检查doc，看一下是否有doc没有抽取到罪名的\n",
    "from tqdm import tqdm\n",
    "doc_dir = '/share/kelong/chenlong/Legal/data/LeCaRDv2-main/candidate'\n",
    "docs = {}\n",
    "for filename in tqdm(os.listdir(doc_dir), ncols=120):\n",
    "    doc = json.load(open(os.path.join(doc_dir, filename), 'r'))\n",
    "    docs[filename.split('.')[0]] = doc\n",
    "    if len(doc['charge']) == 0:\n",
    "        print(filename)\n",
    "    "
   ]
  },
  {
   "cell_type": "code",
   "execution_count": null,
   "metadata": {},
   "outputs": [],
   "source": []
  }
 ],
 "metadata": {
  "kernelspec": {
   "display_name": "Python 3",
   "language": "python",
   "name": "python3"
  },
  "language_info": {
   "codemirror_mode": {
    "name": "ipython",
    "version": 3
   },
   "file_extension": ".py",
   "mimetype": "text/x-python",
   "name": "python",
   "nbconvert_exporter": "python",
   "pygments_lexer": "ipython3",
   "version": "3.10.13"
  }
 },
 "nbformat": 4,
 "nbformat_minor": 2
}
