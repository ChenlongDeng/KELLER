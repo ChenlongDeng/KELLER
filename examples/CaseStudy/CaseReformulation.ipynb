{
 "cells": [
  {
   "cell_type": "code",
   "execution_count": 1,
   "metadata": {},
   "outputs": [],
   "source": [
    "from tqdm import tqdm\n",
    "import json\n",
    "import os"
   ]
  },
  {
   "cell_type": "code",
   "execution_count": 9,
   "metadata": {},
   "outputs": [
    {
     "name": "stderr",
     "output_type": "stream",
     "text": [
      "reading LeCaRDv2 docs: 100%|████████████████████████████████████████████████████| 55192/55192 [00:26<00:00, 2068.85it/s]\n"
     ]
    }
   ],
   "source": [
    "# 读入lecardv2的数据\n",
    "query_crimes = json.load(open('/share/kelong/chenlong/Legal/Ranking_LeCaRDv2/examples/LM生成数据/generate_fact/Qwen72B-Chat/query_fact.json', 'r'))\n",
    "querys = {}\n",
    "with open('/share/kelong/chenlong/Legal/data/LeCaRDv2-main/query/query.json', 'r') as f:\n",
    "    for line in f:\n",
    "        query = json.loads(line)\n",
    "        try:\n",
    "            query['crime'] = list(query_crimes[str(query['id'])].keys())\n",
    "            querys[str(query['id'])] = query\n",
    "        except:\n",
    "            pass\n",
    "test_querys = {}\n",
    "with open('/share/kelong/chenlong/Legal/data/LeCaRDv2-main/query/test_query.jsonl', 'r') as f:\n",
    "    for line in f:\n",
    "        query = json.loads(line)\n",
    "        test_querys[str(query['id'])] = query\n",
    "\n",
    "docs = {}\n",
    "for filename in tqdm(os.listdir('/share/kelong/chenlong/Legal/data/LeCaRDv2-main/candidate'), ncols=120, desc='reading LeCaRDv2 docs'):\n",
    "    did = filename.split('.')[0]\n",
    "    docs[did] = json.load(open(os.path.join('/share/kelong/chenlong/Legal/data/LeCaRDv2-main/candidate', filename), 'r'))"
   ]
  },
  {
   "cell_type": "code",
   "execution_count": 10,
   "metadata": {},
   "outputs": [],
   "source": [
    "# 多罪名的数据\n",
    "multi_crime_querys = {}\n",
    "multi_crime_docs = {}\n",
    "for qid in querys.keys():\n",
    "    if len(querys[qid]['crime']) > 1:\n",
    "        multi_crime_querys[qid] = querys[qid]\n",
    "for did in docs.keys():\n",
    "    if len(docs[did]['charge']) > 1:\n",
    "        multi_crime_docs[did] = docs[did]"
   ]
  },
  {
   "cell_type": "code",
   "execution_count": 11,
   "metadata": {},
   "outputs": [
    {
     "data": {
      "text/plain": [
       "9205"
      ]
     },
     "execution_count": 11,
     "metadata": {},
     "output_type": "execute_result"
    }
   ],
   "source": [
    "len(multi_crime_docs)"
   ]
  },
  {
   "cell_type": "code",
   "execution_count": 12,
   "metadata": {},
   "outputs": [
    {
     "data": {
      "text/plain": [
       "231"
      ]
     },
     "execution_count": 12,
     "metadata": {},
     "output_type": "execute_result"
    }
   ],
   "source": [
    "len(multi_crime_querys)"
   ]
  },
  {
   "cell_type": "code",
   "execution_count": 13,
   "metadata": {},
   "outputs": [
    {
     "data": {
      "text/plain": [
       "{'725': ['伪造事业单位印章罪', '伪造、买卖国家机关证件、印章罪'],\n",
       " '660': ['受贿罪', '滥用职权罪', '贪污罪'],\n",
       " '610': ['容留卖淫罪', '组织卖淫罪'],\n",
       " '685': ['非法侵入住宅罪', '盗窃罪'],\n",
       " '675': ['受贿罪', '挪用公款罪'],\n",
       " '680': ['故意杀人罪', '盗窃罪'],\n",
       " '445': ['强奸罪', '猥亵儿童罪'],\n",
       " '115': ['贪污罪', '挪用公款罪'],\n",
       " '500': ['放火罪', '故意伤害罪'],\n",
       " '480': ['寻衅滋事罪', '强迫交易罪', '非法占用农用地罪'],\n",
       " '520': ['非法经营罪', '销售假药罪'],\n",
       " '575': ['盗窃罪', '掩饰犯罪所得罪'],\n",
       " '580': ['掩饰、隐瞒犯罪所得罪', '非法拘禁罪'],\n",
       " '570': ['故意毁坏财物罪', '故意伤害罪'],\n",
       " '65': ['走私、贩卖、运输、制造毒品罪', '非法种植毒品原植物罪'],\n",
       " '430': ['集资诈骗罪', '拒不支付劳动报酬罪'],\n",
       " '185': ['合同诈骗罪', '伪造国家机关证件罪', '非法拘禁罪'],\n",
       " '120': ['非法经营罪', '销售假药罪'],\n",
       " '415': ['假冒注册商标罪', '销售假药罪'],\n",
       " '350': ['诈骗罪', '贪污罪'],\n",
       " '15': ['寻衅滋事罪', '诈骗罪', '非法侵入住宅罪', '敲诈勒索罪'],\n",
       " '330': ['开设赌场罪', '伪造、变造、买卖国家机关公文、证件、印章罪', '伪造公司、企业、事业单位、人民团体印章罪'],\n",
       " '410': ['非法采矿罪', '敲诈勒索罪', '开设赌场罪', '诈骗罪', '故意伤害罪'],\n",
       " '160': ['寻衅滋事罪', '窝藏罪'],\n",
       " '260': ['非法持有弹药罪', '非法种植毒品原植物罪'],\n",
       " '400': ['盗窃罪', '放火罪'],\n",
       " '460': ['寻衅滋事罪', '危险驾驶罪'],\n",
       " '435': ['诈骗罪', '合同诈骗罪'],\n",
       " '285': ['销售有毒、有害食品罪', '销售假药罪'],\n",
       " '440': ['抢劫罪', '非法持有枪支罪'],\n",
       " '455': ['赌博罪', '容留他人吸毒罪'],\n",
       " '290': ['容留他人吸毒罪', '贩卖毒品罪'],\n",
       " '510': ['非法狩猎罪', '非法制造枪支罪'],\n",
       " '565': ['抢劫罪', '合同诈骗罪', '抢夺罪'],\n",
       " '95': ['诈骗罪', '挪用资金罪'],\n",
       " '295': ['抢劫罪', '抢夺罪'],\n",
       " '110': ['受贿罪', '贪污罪'],\n",
       " '100': ['掩饰、隐瞒犯罪所得、犯罪所得收益罪', '抢夺罪'],\n",
       " '20': ['抢劫罪', '窝藏罪'],\n",
       " '105': ['寻衅滋事罪', '故意伤害罪']}"
      ]
     },
     "execution_count": 13,
     "metadata": {},
     "output_type": "execute_result"
    }
   ],
   "source": [
    "{k: v['crime'] for k, v in multi_crime_querys.items() if k in test_querys.keys()}"
   ]
  },
  {
   "cell_type": "code",
   "execution_count": null,
   "metadata": {},
   "outputs": [],
   "source": []
  }
 ],
 "metadata": {
  "kernelspec": {
   "display_name": "Python 3",
   "language": "python",
   "name": "python3"
  },
  "language_info": {
   "codemirror_mode": {
    "name": "ipython",
    "version": 3
   },
   "file_extension": ".py",
   "mimetype": "text/x-python",
   "name": "python",
   "nbconvert_exporter": "python",
   "pygments_lexer": "ipython3",
   "version": "3.10.13"
  }
 },
 "nbformat": 4,
 "nbformat_minor": 2
}
