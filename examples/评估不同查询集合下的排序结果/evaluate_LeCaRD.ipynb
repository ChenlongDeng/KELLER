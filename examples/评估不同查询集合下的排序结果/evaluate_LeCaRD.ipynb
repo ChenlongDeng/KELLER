{
 "cells": [
  {
   "cell_type": "code",
   "execution_count": 2,
   "metadata": {},
   "outputs": [],
   "source": [
    "import json"
   ]
  },
  {
   "cell_type": "code",
   "execution_count": 4,
   "metadata": {},
   "outputs": [],
   "source": [
    "# 先划分集合\n",
    "querys = json.load(open('/share/kelong/chenlong/Legal/data/LeCaRD/data/query/query_total.json', 'r'))\n",
    "for qid in ['6816', '2403']:\n",
    "    querys.pop(qid)\n",
    "\n",
    "label_top30 = json.load(open('/share/kelong/chenlong/Legal/data/LeCaRD/data/label/label_top30_dict.json', 'r'))\n",
    "common_qids = list(label_top30.keys())[:77]\n",
    "controversial_qids = list(label_top30.keys())[77:]"
   ]
  },
  {
   "cell_type": "code",
   "execution_count": 6,
   "metadata": {},
   "outputs": [],
   "source": [
    "# 读入各个模型的排序文件\n",
    "bm25_result = json.load(open('/share/kelong/chenlong/Legal/Ranking_LeCaRD/examples/bm25重排结果/rank_bm25.json', 'r'))\n",
    "bert_finetune_result = json.load(open('./ranking_results/BERT_LeCaRD_best_finetuned.json', 'r'))\n",
    "SAILER_finetune_result = json.load(open('./ranking_results/SAILER_LeCaRD_zeroshot.json', 'r'))\n",
    "KELLER_finetune_result = json.load(open('./ranking_results/KELLER_LeCaRD_best_finetuned.json', 'r'))"
   ]
  },
  {
   "cell_type": "code",
   "execution_count": 8,
   "metadata": {},
   "outputs": [
    {
     "name": "stdout",
     "output_type": "stream",
     "text": [
      "bm25, common {'MAP': 0.4819018152984644, 'MRR': 0.6052419528007188, 'P@1': 0.48, 'P@3': 0.41777777777777786, 'NDCG@3': 0.6476827925623109, 'NDCG@5': 0.6594755135681578, 'NDCG@10': 0.6879631951219402, 'NDCG@20': 0.7520180991025527, 'NDCG@30': 0.8511350874314902}\n",
      "bm25, controversial {'MAP': 0.45058328502647443, 'MRR': 0.639261063011063, 'P@1': 0.5333333333333333, 'P@3': 0.35555555555555546, 'NDCG@3': 0.6367084620170893, 'NDCG@5': 0.6470067447795731, 'NDCG@10': 0.7001862080231279, 'NDCG@20': 0.7663456367670048, 'NDCG@30': 0.8513858293099652}\n",
      "BERT, common {'MAP': 0.5784656923738768, 'MRR': 0.6993057550551831, 'P@1': 0.6, 'P@3': 0.5466666666666669, 'NDCG@3': 0.7512624322904006, 'NDCG@5': 0.7521610414543048, 'NDCG@10': 0.7678998689199702, 'NDCG@20': 0.8250454461502273, 'NDCG@30': 0.8967866829744264}\n",
      "BERT, controversial {'MAP': 0.43789658253045327, 'MRR': 0.5585936748436747, 'P@1': 0.4, 'P@3': 0.41111111111111115, 'NDCG@3': 0.6835326648319849, 'NDCG@5': 0.6897238636620525, 'NDCG@10': 0.7242478066070975, 'NDCG@20': 0.804373169540414, 'NDCG@30': 0.8713111439480711}\n",
      "SAILER, common {'MAP': 0.6406663556692643, 'MRR': 0.7567830687830688, 'P@1': 0.6533333333333333, 'P@3': 0.6044444444444445, 'NDCG@3': 0.8242782153325332, 'NDCG@5': 0.8148770351562579, 'NDCG@10': 0.8289224034087004, 'NDCG@20': 0.876056815148727, 'NDCG@30': 0.929659966436285}\n",
      "SAILER, controversial {'MAP': 0.5200515126583564, 'MRR': 0.6552861319966584, 'P@1': 0.5666666666666667, 'P@3': 0.4555555555555556, 'NDCG@3': 0.736992888111441, 'NDCG@5': 0.7276142797323687, 'NDCG@10': 0.777119110075136, 'NDCG@20': 0.8470459266014411, 'NDCG@30': 0.8971188594545666}\n",
      "KELLER, common {'MAP': 0.6778530767488399, 'MRR': 0.7435035821877929, 'P@1': 0.6266666666666667, 'P@3': 0.6133333333333333, 'NDCG@3': 0.8251487165522534, 'NDCG@5': 0.8298413322407395, 'NDCG@10': 0.8475325390955188, 'NDCG@20': 0.8927644116066341, 'NDCG@30': 0.9351454020182831}\n",
      "KELLER, controversial {'MAP': 0.6446121782623594, 'MRR': 0.7189529914529914, 'P@1': 0.6, 'P@3': 0.46666666666666673, 'NDCG@3': 0.7805036078217948, 'NDCG@5': 0.8099279074955933, 'NDCG@10': 0.8446196669810033, 'NDCG@20': 0.8869588269859687, 'NDCG@30': 0.928922215713637}\n"
     ]
    }
   ],
   "source": [
    "# 分别测试三个结果在三种query上的指标\n",
    "from Metrics import compute_metrics_normal\n",
    "model_results = {'bm25': bm25_result, 'BERT': bert_finetune_result, 'SAILER': SAILER_finetune_result, 'KELLER': KELLER_finetune_result}\n",
    "query_types = {'common': common_qids, 'controversial': controversial_qids}\n",
    "for model_name in model_results.keys():\n",
    "    for query_type in query_types.keys():\n",
    "        sub_result = {qid: model_results[model_name][qid] for qid in model_results[model_name].keys() if qid in query_types[query_type]}\n",
    "        print(f'{model_name}, {query_type}', str(compute_metrics_normal(sub_result, label_top30)))"
   ]
  },
  {
   "cell_type": "code",
   "execution_count": null,
   "metadata": {},
   "outputs": [],
   "source": []
  }
 ],
 "metadata": {
  "kernelspec": {
   "display_name": "Python 3",
   "language": "python",
   "name": "python3"
  },
  "language_info": {
   "codemirror_mode": {
    "name": "ipython",
    "version": 3
   },
   "file_extension": ".py",
   "mimetype": "text/x-python",
   "name": "python",
   "nbconvert_exporter": "python",
   "pygments_lexer": "ipython3",
   "version": "3.10.13"
  }
 },
 "nbformat": 4,
 "nbformat_minor": 2
}
