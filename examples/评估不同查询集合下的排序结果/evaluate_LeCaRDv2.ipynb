{
 "cells": [
  {
   "cell_type": "code",
   "execution_count": 1,
   "metadata": {},
   "outputs": [],
   "source": [
    "import json"
   ]
  },
  {
   "cell_type": "code",
   "execution_count": 2,
   "metadata": {},
   "outputs": [],
   "source": [
    "# 先划分集合\n",
    "test_querys = {}\n",
    "with open('/share/kelong/chenlong/Legal/data/LeCaRDv2-main/query/test_query.jsonl', 'r') as f:\n",
    "    for line in f:\n",
    "        query = json.loads(line)\n",
    "        test_querys[str(query['id'])] = query\n",
    "\n",
    "common_query = {}\n",
    "with open('/share/kelong/chenlong/Legal/data/LeCaRDv2-main/query/common_query.json', 'r') as f:\n",
    "    for line in f:\n",
    "        query = json.loads(line)\n",
    "        if str(query['id']) not in test_querys.keys():\n",
    "            continue\n",
    "        common_query[str(query['id'])] = query\n",
    "\n",
    "controversial_query = {}\n",
    "with open('/share/kelong/chenlong/Legal/data/LeCaRDv2-main/query/controversial_query.json', 'r') as f:\n",
    "    for line in f:\n",
    "        query = json.loads(line)\n",
    "        if str(query['id']) not in test_querys.keys():\n",
    "            continue\n",
    "        controversial_query[str(query['id'])] = query\n",
    "\n",
    "expedited_query = {}\n",
    "with open('/share/kelong/chenlong/Legal/data/LeCaRDv2-main/query/procedural_query.json', 'r') as f:\n",
    "    for line in f:\n",
    "        query = json.loads(line)\n",
    "        if str(query['id']) not in test_querys.keys():\n",
    "            continue\n",
    "        if '速裁' not in query['query']:\n",
    "            continue\n",
    "        expedited_query[str(query['id'])] = query"
   ]
  },
  {
   "cell_type": "code",
   "execution_count": 3,
   "metadata": {},
   "outputs": [],
   "source": [
    "# 读入各个模型的排序文件\n",
    "bm25_result = json.load(open('/share/kelong/chenlong/Legal/Ranking_LeCaRDv2/examples/bm25重排结果/rank_bm25.json', 'r'))\n",
    "bert_finetune_result = json.load(open('./ranking_results/BERT_LeCaRDv2_best_finetuned.json', 'r'))\n",
    "SAILER_finetune_result = json.load(open('./ranking_results/SAILER_LeCaRDv2_zeroshot.json', 'r'))\n",
    "KELLER_finetune_result = json.load(open('./ranking_results/KELLER_LeCaRDv2_best_finetuned.json', 'r'))\n",
    "# 读入labels，然后扩充一下labels\n",
    "labels = {}\n",
    "with open('/share/kelong/chenlong/Legal/data/LeCaRDv2-main/label/relevence.trec', 'r') as f:\n",
    "    for line in f:\n",
    "        qid, _, did, rel = line.split('\\t')\n",
    "        if qid not in labels.keys():\n",
    "            labels[qid] = {}\n",
    "        labels[qid][did] = int(rel)\n",
    "\n",
    "for qid in bert_finetune_result.keys():\n",
    "    for did in bert_finetune_result[qid].keys():\n",
    "        if did not in labels[qid].keys():\n",
    "            labels[qid][did] = 0"
   ]
  },
  {
   "cell_type": "code",
   "execution_count": 4,
   "metadata": {},
   "outputs": [
    {
     "name": "stdout",
     "output_type": "stream",
     "text": [
      "bm25, common {'MAP': 0.5439972774497908, 'MRR': 0.6168672173552824, 'P@1': 0.5166666666666667, 'P@3': 0.47777777777777786, 'NDCG@3': 0.7199534738871883, 'NDCG@5': 0.7234943955093239, 'NDCG@10': 0.7412014456941162, 'NDCG@20': 0.7988765509011049, 'NDCG@30': 0.8750150820296415}\n",
      "bm25, controversial {'MAP': 0.6173286951591025, 'MRR': 0.6694047619047618, 'P@1': 0.55, 'P@3': 0.5166666666666667, 'NDCG@3': 0.7352342631151669, 'NDCG@5': 0.7408125844535962, 'NDCG@10': 0.7605288661341124, 'NDCG@20': 0.8022617111904644, 'NDCG@30': 0.88803138387663}\n",
      "bm25, expedited {'MAP': 0.9198561088154684, 'MRR': 1.0, 'P@1': 1.0, 'P@3': 1.0, 'NDCG@3': 1.0, 'NDCG@5': 0.9306816431612379, 'NDCG@10': 0.9902658207362975, 'NDCG@20': 0.9926989047702794, 'NDCG@30': 0.9930423019548571}\n",
      "BERT, common {'MAP': 0.5948524068240777, 'MRR': 0.6783356203981206, 'P@1': 0.575, 'P@3': 0.5361111111111111, 'NDCG@3': 0.7802700279830772, 'NDCG@5': 0.7866639124521521, 'NDCG@10': 0.8045331611469031, 'NDCG@20': 0.8485771328157106, 'NDCG@30': 0.9055200888330802}\n",
      "BERT, controversial {'MAP': 0.6705786758857668, 'MRR': 0.69825, 'P@1': 0.6, 'P@3': 0.5333333333333334, 'NDCG@3': 0.7947095185941003, 'NDCG@5': 0.8125037253642173, 'NDCG@10': 0.836978711376197, 'NDCG@20': 0.8601945153926854, 'NDCG@30': 0.922952424009216}\n",
      "BERT, expedited {'MAP': 0.9407077788295666, 'MRR': 1.0, 'P@1': 1.0, 'P@3': 1.0, 'NDCG@3': 1.0, 'NDCG@5': 0.9671987306219145, 'NDCG@10': 0.9942723838666773, 'NDCG@20': 0.9870164736000091, 'NDCG@30': 0.9948628317994481}\n",
      "SAILER, common {'MAP': 0.621752812626442, 'MRR': 0.7018993699913865, 'P@1': 0.6, 'P@3': 0.5305555555555558, 'NDCG@3': 0.7828076340746061, 'NDCG@5': 0.8014437161708086, 'NDCG@10': 0.8296273099481836, 'NDCG@20': 0.8691494859625515, 'NDCG@30': 0.915797960509174}\n",
      "SAILER, controversial {'MAP': 0.7312259015819842, 'MRR': 0.8264880952380953, 'P@1': 0.8, 'P@3': 0.7, 'NDCG@3': 0.9022726818162108, 'NDCG@5': 0.8975013691799948, 'NDCG@10': 0.9014629612563445, 'NDCG@20': 0.914345401579368, 'NDCG@30': 0.9504130506903616}\n",
      "SAILER, expedited {'MAP': 0.964097339363925, 'MRR': 1.0, 'P@1': 1.0, 'P@3': 1.0, 'NDCG@3': 1.0, 'NDCG@5': 0.9671987306219145, 'NDCG@10': 0.9979547821256355, 'NDCG@20': 0.9885607230168237, 'NDCG@30': 0.9964015459386035}\n",
      "KELLER, common {'MAP': 0.6699834279985433, 'MRR': 0.7515584561637192, 'P@1': 0.6583333333333333, 'P@3': 0.6305555555555552, 'NDCG@3': 0.8430630526677562, 'NDCG@5': 0.8475433564698139, 'NDCG@10': 0.8653241284150294, 'NDCG@20': 0.9013735741636734, 'NDCG@30': 0.9315276523909085}\n",
      "KELLER, controversial {'MAP': 0.8285833972884651, 'MRR': 0.9183333333333333, 'P@1': 0.9, 'P@3': 0.7499999999999999, 'NDCG@3': 0.9231245347419689, 'NDCG@5': 0.9330926239275991, 'NDCG@10': 0.9420876679186108, 'NDCG@20': 0.9475928498847761, 'NDCG@30': 0.9634383972296465}\n",
      "KELLER, expedited {'MAP': 0.7816631480178278, 'MRR': 1.0, 'P@1': 1.0, 'P@3': 0.8333333333333333, 'NDCG@3': 0.9413401592471554, 'NDCG@5': 0.8882866175020359, 'NDCG@10': 0.9120711345763834, 'NDCG@20': 0.9723367832029672, 'NDCG@30': 0.9770647925595406}\n"
     ]
    }
   ],
   "source": [
    "# 分别测试三个结果在三种query上的指标\n",
    "from Metrics import compute_metrics_normal\n",
    "model_results = {'bm25': bm25_result, 'BERT': bert_finetune_result, 'SAILER': SAILER_finetune_result, 'KELLER': KELLER_finetune_result}\n",
    "query_types = {'common': common_query, 'controversial': controversial_query, 'expedited': expedited_query}\n",
    "for model_name in model_results.keys():\n",
    "    for query_type in query_types.keys():\n",
    "        sub_result = {qid: model_results[model_name][qid] for qid in model_results[model_name].keys() if qid in query_types[query_type].keys()}\n",
    "        print(f'{model_name}, {query_type}', str(compute_metrics_normal(sub_result, labels)))"
   ]
  },
  {
   "cell_type": "code",
   "execution_count": null,
   "metadata": {},
   "outputs": [],
   "source": []
  }
 ],
 "metadata": {
  "kernelspec": {
   "display_name": "Python 3",
   "language": "python",
   "name": "python3"
  },
  "language_info": {
   "codemirror_mode": {
    "name": "ipython",
    "version": 3
   },
   "file_extension": ".py",
   "mimetype": "text/x-python",
   "name": "python",
   "nbconvert_exporter": "python",
   "pygments_lexer": "ipython3",
   "version": "3.10.13"
  }
 },
 "nbformat": 4,
 "nbformat_minor": 2
}
