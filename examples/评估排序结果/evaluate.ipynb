{
 "cells": [
  {
   "cell_type": "code",
   "execution_count": 7,
   "metadata": {},
   "outputs": [],
   "source": [
    "import json\n",
    "result = json.load(open('/share/kelong/chenlong/Legal/Ranking_LeCaRDv2/result/KELLER/LeCaRDv2_best_finetuned.json', 'r'))"
   ]
  },
  {
   "cell_type": "code",
   "execution_count": 8,
   "metadata": {},
   "outputs": [],
   "source": [
    "# 读入labels，然后扩充一下labels\n",
    "labels = {}\n",
    "with open('/share/kelong/chenlong/Legal/data/LeCaRDv2-main/label/relevence.trec', 'r') as f:\n",
    "    for line in f:\n",
    "        qid, _, did, rel = line.split('\\t')\n",
    "        if qid not in labels.keys():\n",
    "            labels[qid] = {}\n",
    "        labels[qid][did] = int(rel)\n",
    "\n",
    "for qid in result.keys():\n",
    "    for did in result[qid].keys():\n",
    "        if did not in labels[qid].keys():\n",
    "            labels[qid][did] = 0"
   ]
  },
  {
   "cell_type": "code",
   "execution_count": 9,
   "metadata": {},
   "outputs": [
    {
     "name": "stdout",
     "output_type": "stream",
     "text": [
      "{'MAP': 0.6828540278402531, 'MRR': 0.7751682108096581, 'P@1': 0.7, 'P@3': 0.6312500000000002, 'NDCG@3': 0.8496726325625094, 'NDCG@5': 0.8562639956509723, 'NDCG@10': 0.8760731705279315, 'NDCG@20': 0.9089738851170093, 'NDCG@30': 0.937361095691959}\n"
     ]
    }
   ],
   "source": [
    "# 开始测评\n",
    "from Metrics import compute_metrics_normal\n",
    "print(compute_metrics_normal(result, labels))"
   ]
  },
  {
   "cell_type": "code",
   "execution_count": null,
   "metadata": {},
   "outputs": [],
   "source": []
  }
 ],
 "metadata": {
  "kernelspec": {
   "display_name": "Python 3",
   "language": "python",
   "name": "python3"
  },
  "language_info": {
   "codemirror_mode": {
    "name": "ipython",
    "version": 3
   },
   "file_extension": ".py",
   "mimetype": "text/x-python",
   "name": "python",
   "nbconvert_exporter": "python",
   "pygments_lexer": "ipython3",
   "version": "3.10.13"
  }
 },
 "nbformat": 4,
 "nbformat_minor": 2
}
