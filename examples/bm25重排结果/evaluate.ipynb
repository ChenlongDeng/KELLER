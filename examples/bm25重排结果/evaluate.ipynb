{
 "cells": [
  {
   "cell_type": "code",
   "execution_count": 1,
   "metadata": {},
   "outputs": [],
   "source": [
    "import json"
   ]
  },
  {
   "cell_type": "code",
   "execution_count": 2,
   "metadata": {},
   "outputs": [],
   "source": [
    "# 先验证候选文档是一致的\n",
    "bert_result = json.load(open('/share/kelong/chenlong/Legal/Ranking_LeCaRDv2/result/BERT/LeCaRDv2_best_finetuned.json', 'r'))\n",
    "bm25_result = json.load(open('./rank_bm25.json', 'r'))\n",
    "tfidf_result = json.load(open('./rank_tfidf.json', 'r'))\n",
    "for qid in bm25_result.keys():\n",
    "    if set(bm25_result[qid].keys()) != set(bert_result[qid].keys()) or set(tfidf_result[qid].keys()) != set(bert_result[qid].keys()):\n",
    "        print(qid)"
   ]
  },
  {
   "cell_type": "code",
   "execution_count": 3,
   "metadata": {},
   "outputs": [],
   "source": [
    "# 读入labels，然后扩充一下labels\n",
    "labels = {}\n",
    "with open('/share/kelong/chenlong/Legal/data/LeCaRDv2-main/label/relevence.trec', 'r') as f:\n",
    "    for line in f:\n",
    "        qid, _, did, rel = line.split('\\t')\n",
    "        if qid not in labels.keys():\n",
    "            labels[qid] = {}\n",
    "        labels[qid][did] = int(rel)\n",
    "\n",
    "for qid in bm25_result.keys():\n",
    "    for did in bm25_result[qid].keys():\n",
    "        if did not in labels[qid].keys():\n",
    "            labels[qid][did] = 0"
   ]
  },
  {
   "cell_type": "code",
   "execution_count": 4,
   "metadata": {},
   "outputs": [
    {
     "name": "stdout",
     "output_type": "stream",
     "text": [
      "{'MAP': 0.5520134784345728, 'MRR': 0.624607250970909, 'P@1': 0.525, 'P@3': 0.4875, 'NDCG@3': 0.7210625700869138, 'NDCG@5': 0.7251112748764355, 'NDCG@10': 0.7447036571900385, 'NDCG@20': 0.7984871067565688, 'NDCG@30': 0.877386066481594}\n",
      "{'MAP': 0.5519663544389097, 'MRR': 0.6032625446673876, 'P@1': 0.48125, 'P@3': 0.4791666666666667, 'NDCG@3': 0.7137769565793255, 'NDCG@5': 0.7269529831123108, 'NDCG@10': 0.750408097947945, 'NDCG@20': 0.8034324964058221, 'NDCG@30': 0.8801501974995147}\n"
     ]
    }
   ],
   "source": [
    "# 开始测评\n",
    "from Metrics import compute_metrics_normal\n",
    "print(compute_metrics_normal(bm25_result, labels))\n",
    "print(compute_metrics_normal(tfidf_result, labels))"
   ]
  },
  {
   "cell_type": "code",
   "execution_count": null,
   "metadata": {},
   "outputs": [],
   "source": []
  }
 ],
 "metadata": {
  "kernelspec": {
   "display_name": "Python 3",
   "language": "python",
   "name": "python3"
  },
  "language_info": {
   "codemirror_mode": {
    "name": "ipython",
    "version": 3
   },
   "file_extension": ".py",
   "mimetype": "text/x-python",
   "name": "python",
   "nbconvert_exporter": "python",
   "pygments_lexer": "ipython3",
   "version": "3.10.13"
  }
 },
 "nbformat": 4,
 "nbformat_minor": 2
}
