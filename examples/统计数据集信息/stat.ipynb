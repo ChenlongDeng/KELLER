{
 "cells": [
  {
   "cell_type": "code",
   "execution_count": 5,
   "metadata": {},
   "outputs": [],
   "source": [
    "import json\n",
    "from tqdm import tqdm\n",
    "import os"
   ]
  },
  {
   "cell_type": "code",
   "execution_count": 2,
   "metadata": {},
   "outputs": [],
   "source": [
    "# query len, doc len, labels"
   ]
  },
  {
   "cell_type": "code",
   "execution_count": 4,
   "metadata": {},
   "outputs": [
    {
     "name": "stdout",
     "output_type": "stream",
     "text": [
      "LeCaRD_query_len: 444.5514018691589\n",
      "LeCaRD_doc_len: 7445.9566461267605\n",
      "golden_labels: 10.392523364485982\n"
     ]
    }
   ],
   "source": [
    "# LeCaRD\n",
    "LeCaRD_query = json.load(open('/share/kelong/chenlong/Legal/data/LeCaRD/data/query/query_total.json', 'r'))\n",
    "LeCaRD_doc = json.load(open('/share/kelong/chenlong/Legal/data/LeCaRD/data/candidates/unique_candidates.json', 'r'))\n",
    "LeCaRD_labels = json.load(open('/share/kelong/chenlong/Legal/data/LeCaRD/data/label/label_top30_dict.json', 'r'))\n",
    "\n",
    "LeCaRD_query_len = [len(query['q']) for qid, query in LeCaRD_query.items()]\n",
    "LeCaRD_query_len = sum(LeCaRD_query_len) / len(LeCaRD_query_len)\n",
    "print(f'LeCaRD_query_len: {LeCaRD_query_len}')\n",
    "\n",
    "LeCaRD_doc_len = [len(doc['qw']) for did, doc in LeCaRD_doc.items()]\n",
    "LeCaRD_doc_len = sum(LeCaRD_doc_len) / len(LeCaRD_doc_len)\n",
    "print(f'LeCaRD_doc_len: {LeCaRD_doc_len}')\n",
    "\n",
    "golden_nums = {}\n",
    "for qid in LeCaRD_labels.keys():\n",
    "    golden_nums[qid] = 0\n",
    "    for did in LeCaRD_labels[qid].keys():\n",
    "        if LeCaRD_labels[qid][did] == 3:\n",
    "            golden_nums[qid] += 1\n",
    "print(f'golden_labels: {sum(golden_nums.values()) / len(golden_nums)}')"
   ]
  },
  {
   "cell_type": "code",
   "execution_count": 7,
   "metadata": {},
   "outputs": [
    {
     "name": "stdout",
     "output_type": "stream",
     "text": [
      "LeCaRDv2_query_len: 4499.08625\n",
      "LeCaRDv2_doc_len: 7445.9566461267605\n",
      "golden_labels: 13.6475\n"
     ]
    }
   ],
   "source": [
    "# LeCaRDv2\n",
    "LeCaRDv2_query_len = []\n",
    "with open('/share/kelong/chenlong/Legal/data/LeCaRDv2-main/query/query.json', 'r') as f:\n",
    "    for line in f:\n",
    "        query = json.loads(line)\n",
    "        LeCaRDv2_query_len.append(len(query['query']))\n",
    "LeCaRDv2_query_len = sum(LeCaRDv2_query_len) / len(LeCaRDv2_query_len)\n",
    "print(f'LeCaRDv2_query_len: {LeCaRDv2_query_len}')\n",
    "\n",
    "LeCaRDv2_doc_len = []\n",
    "doc_dir = '/share/kelong/chenlong/Legal/data/LeCaRDv2-main/candidate'\n",
    "for filename in os.listdir(doc_dir):\n",
    "    doc = json.load(open(os.path.join(doc_dir, filename), 'r'))\n",
    "    LeCaRDv2_doc_len.append(len(doc['qw']))\n",
    "LeCaRDv2_doc_len = sum(LeCaRDv2_doc_len) / len(LeCaRDv2_doc_len)\n",
    "print(f'LeCaRDv2_doc_len: {LeCaRDv2_doc_len}')\n",
    "\n",
    "golden_nums = {}\n",
    "labels = {}\n",
    "with open('/share/kelong/chenlong/Legal/data/LeCaRDv2-main/label/relevence.trec', 'r') as f:\n",
    "    for line in f:\n",
    "        qid, _, did, rel = line.split('\\t')\n",
    "        if qid not in labels.keys():\n",
    "            labels[qid] = {}\n",
    "        labels[qid][did] = int(rel)\n",
    "\n",
    "for qid in labels.keys():\n",
    "    golden_nums[qid] = 0\n",
    "    if all([labels[qid][did] != 3 for did in labels[qid].keys()]):\n",
    "        golden_labels = [2,3]\n",
    "    else:\n",
    "        golden_labels = [3]\n",
    "    for did in labels[qid].keys():\n",
    "        if labels[qid][did] in golden_labels:\n",
    "            golden_nums[qid] += 1\n",
    "print(f'golden_labels: {sum(golden_nums.values()) / len(golden_nums)}')"
   ]
  },
  {
   "cell_type": "code",
   "execution_count": 8,
   "metadata": {},
   "outputs": [
    {
     "data": {
      "text/plain": [
       "4767.824032468474"
      ]
     },
     "execution_count": 8,
     "metadata": {},
     "output_type": "execute_result"
    }
   ],
   "source": [
    "LeCaRDv2_doc_len"
   ]
  },
  {
   "cell_type": "code",
   "execution_count": null,
   "metadata": {},
   "outputs": [],
   "source": []
  }
 ],
 "metadata": {
  "kernelspec": {
   "display_name": "Python 3",
   "language": "python",
   "name": "python3"
  },
  "language_info": {
   "codemirror_mode": {
    "name": "ipython",
    "version": 3
   },
   "file_extension": ".py",
   "mimetype": "text/x-python",
   "name": "python",
   "nbconvert_exporter": "python",
   "pygments_lexer": "ipython3",
   "version": "3.10.13"
  }
 },
 "nbformat": 4,
 "nbformat_minor": 2
}
