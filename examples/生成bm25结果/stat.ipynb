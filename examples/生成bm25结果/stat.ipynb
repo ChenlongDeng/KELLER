{
 "cells": [
  {
   "cell_type": "code",
   "execution_count": 4,
   "metadata": {},
   "outputs": [],
   "source": [
    "import json"
   ]
  },
  {
   "cell_type": "code",
   "execution_count": 5,
   "metadata": {},
   "outputs": [],
   "source": [
    "# 每个query底下标注的文档，以及每个query下的bm25top200\n",
    "labeled_docs = []\n",
    "LeCaRDv2_label = {}\n",
    "with open('/share/kelong/chenlong/Legal/data/LeCaRDv2-main/label/relevence.trec', 'r') as f:\n",
    "    for line in f:\n",
    "        qid, _, did, rel = line.strip().split('\\t')\n",
    "        labeled_docs.append(did)\n",
    "labeled_docs = list(set(labeled_docs))\n",
    "\n",
    "with open('/share/kelong/chenlong/Legal/data/LeCaRDv2-main/label/relevence.trec', 'r') as f:\n",
    "    for line in f:\n",
    "        qid, _, did, rel = line.strip().split('\\t')\n",
    "        if qid not in LeCaRDv2_label.keys():\n",
    "            LeCaRDv2_label[qid] = {}\n",
    "        LeCaRDv2_label[qid][did] = int(rel)"
   ]
  },
  {
   "cell_type": "code",
   "execution_count": 6,
   "metadata": {},
   "outputs": [
    {
     "data": {
      "text/plain": [
       "21300"
      ]
     },
     "execution_count": 6,
     "metadata": {},
     "output_type": "execute_result"
    }
   ],
   "source": [
    "len(labeled_docs)"
   ]
  },
  {
   "cell_type": "code",
   "execution_count": 15,
   "metadata": {},
   "outputs": [],
   "source": [
    "generated_docs = json.load(open('/share/kelong/chenlong/Legal/Ranking_LeCaRDv2/examples/LM生成数据/generate_fact/Qwen72B-Chat/doc_fact.json', 'r'))\n",
    "LeCaRDv2_train_querys = {}\n",
    "LeCaRDv2_test_querys = {}\n",
    "with open('/share/kelong/chenlong/Legal/data/LeCaRDv2-main/query/train_query.jsonl', 'r') as f:\n",
    "    for line in f:\n",
    "        query = json.loads(line)\n",
    "        LeCaRDv2_train_querys[str(query['id'])] = query['fact']\n",
    "\n",
    "with open('/share/kelong/chenlong/Legal/data/LeCaRDv2-main/query/test_query.jsonl', 'r') as f:\n",
    "    for line in f:\n",
    "        query = json.loads(line)\n",
    "        LeCaRDv2_test_querys[str(query['id'])] = query['fact']"
   ]
  },
  {
   "cell_type": "code",
   "execution_count": 16,
   "metadata": {},
   "outputs": [],
   "source": [
    "LeCaRDv2_bm25 = json.load(open('./bm25_top1k.json', 'r'))\n",
    "bm25_docs = []\n",
    "for qid in LeCaRDv2_bm25.keys():\n",
    "    for did in list(LeCaRDv2_bm25[qid].keys())[100:110]:\n",
    "        bm25_docs.append(did)\n",
    "for qid in LeCaRDv2_train_querys.keys():\n",
    "    if all([LeCaRDv2_label[qid][did] != 3 for did in LeCaRDv2_label[qid].keys()]):\n",
    "        golden_labels = [2,3]\n",
    "    else:\n",
    "        golden_labels = [3]\n",
    "        \n",
    "    for did in LeCaRDv2_label[qid].keys():\n",
    "        negatives = [i for i in LeCaRDv2_bm25[qid].keys() if (i not in LeCaRDv2_label[qid].keys()) or (LeCaRDv2_label[qid][i] not in golden_labels)]\n",
    "        bm25_docs.extend(negatives[10:10+15])\n",
    "\n",
    "for qid in LeCaRDv2_test_querys.keys():\n",
    "    if all([LeCaRDv2_label[qid][did] != 3 for did in LeCaRDv2_label[qid].keys()]):\n",
    "        golden_labels = [2,3]\n",
    "    else:\n",
    "        golden_labels = [3]\n",
    "        \n",
    "    if all(LeCaRDv2_label[qid][did] in golden_labels for did in LeCaRDv2_label[qid].keys()):\n",
    "        extra_candidates = [i for i in LeCaRDv2_bm25[qid].keys() if (i not in LeCaRDv2_label[qid].keys()) or (LeCaRDv2_label[qid][i] not in golden_labels)]\n",
    "        bm25_docs.extend(extra_candidates[100:110])        \n",
    "bm25_docs = list(set(bm25_docs))"
   ]
  },
  {
   "cell_type": "code",
   "execution_count": 17,
   "metadata": {},
   "outputs": [
    {
     "data": {
      "text/plain": [
       "12040"
      ]
     },
     "execution_count": 17,
     "metadata": {},
     "output_type": "execute_result"
    }
   ],
   "source": [
    "len(bm25_docs)"
   ]
  },
  {
   "cell_type": "code",
   "execution_count": 18,
   "metadata": {},
   "outputs": [
    {
     "data": {
      "text/plain": [
       "1025"
      ]
     },
     "execution_count": 18,
     "metadata": {},
     "output_type": "execute_result"
    }
   ],
   "source": [
    "len([i for i in bm25_docs if i not in generated_docs.keys()])"
   ]
  },
  {
   "cell_type": "code",
   "execution_count": 14,
   "metadata": {},
   "outputs": [
    {
     "data": {
      "text/plain": [
       "28363"
      ]
     },
     "execution_count": 14,
     "metadata": {},
     "output_type": "execute_result"
    }
   ],
   "source": [
    "len(generated_docs)"
   ]
  },
  {
   "cell_type": "code",
   "execution_count": null,
   "metadata": {},
   "outputs": [],
   "source": []
  }
 ],
 "metadata": {
  "kernelspec": {
   "display_name": "Python 3",
   "language": "python",
   "name": "python3"
  },
  "language_info": {
   "codemirror_mode": {
    "name": "ipython",
    "version": 3
   },
   "file_extension": ".py",
   "mimetype": "text/x-python",
   "name": "python",
   "nbconvert_exporter": "python",
   "pygments_lexer": "ipython3",
   "version": "3.10.13"
  }
 },
 "nbformat": 4,
 "nbformat_minor": 2
}
